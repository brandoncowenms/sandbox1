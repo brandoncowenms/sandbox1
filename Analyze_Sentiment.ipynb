{
  "cells": [
    {
      "cell_type": "markdown",
      "source": [
        "# Requires \r\n",
        "* ## Kernel python 3.8 - AzureML\r\n",
        "* ## Non free Language Service Tier"
      ],
      "metadata": {
        "nteract": {
          "transient": {
            "deleting": false
          }
        }
      }
    },
    {
      "cell_type": "code",
      "source": [
        "https://learn.microsoft.com/en-us/python/api/overview/azure/ai-textanalytics-readme?view=azure-python"
      ],
      "outputs": [],
      "execution_count": null,
      "metadata": {}
    },
    {
      "cell_type": "markdown",
      "source": [
        "## Import Translated Data"
      ],
      "metadata": {
        "nteract": {
          "transient": {
            "deleting": false
          }
        }
      }
    },
    {
      "cell_type": "code",
      "source": [
        "import pandas as pd\r\n",
        "\r\n",
        "df = pd.read_csv('translated_input.csv')\r\n",
        "df.head()"
      ],
      "outputs": [
        {
          "output_type": "execute_result",
          "execution_count": 2,
          "data": {
            "text/plain": "                                             SUBJECT  \\\n0  [Commercial] India's Current Account Slips Int...   \n1  Re: INVOICE # 910026043; PURCHASE ORDER # PO-D...   \n2  Re: High-quality China Market Research Service...   \n3                            New order specification   \n4                             Fulfillment Set Report   \n\n                                         DESCRIPTION  \\\n0  BW Businessworld Newsletter\\n    Â \\n         ...   \n1  Dear Sir\\n\\nThe item not yet received.\\n\\nBest...   \n2  Dear friend,\\n\\n\\n\\nHave a nice day! We are a ...   \n3  Hello Sir/Ma\\n\\nWe are interested in your prod...   \n4  Orders not invoiced due to Fulfillment Set for...   \n\n                                    ORIGIN      TYPE          PORTAL_TYPE__C  \\\n0                              Email - JCS       JCS         General Inquiry   \n1      Email - Customer Experience general  CxOffice       Order Information   \n2                             Email - JSAS       SAS  Software & Application   \n3  Email - NA- Customer Experience General  Amer CCC         Product Support   \n4  Email - NA- Customer Experience General  Amer CCC         Product Support   \n\n         TYPE_LABEL                                        translation  \\\n0  Customer Service  BW Businessworld Newsletter\\n    Â \\n         ...   \n1  Customer Service  Dear Sir\\n\\nThe item not yet received.\\n\\nBest...   \n2               SAS  Dear friend,\\n\\nHave a nice day! We are a Shan...   \n3  Customer Service  Hello Sir/Ma\\n\\nWe are interested in your prod...   \n4  Customer Service  Orders not invoiced due to Fulfillment Set for...   \n\n  detected_language  translation_score  \n0                en               0.96  \n1                en               1.00  \n2                en               1.00  \n3                en               1.00  \n4                en               1.00  ",
            "text/html": "<div>\n<style scoped>\n    .dataframe tbody tr th:only-of-type {\n        vertical-align: middle;\n    }\n\n    .dataframe tbody tr th {\n        vertical-align: top;\n    }\n\n    .dataframe thead th {\n        text-align: right;\n    }\n</style>\n<table border=\"1\" class=\"dataframe\">\n  <thead>\n    <tr style=\"text-align: right;\">\n      <th></th>\n      <th>SUBJECT</th>\n      <th>DESCRIPTION</th>\n      <th>ORIGIN</th>\n      <th>TYPE</th>\n      <th>PORTAL_TYPE__C</th>\n      <th>TYPE_LABEL</th>\n      <th>translation</th>\n      <th>detected_language</th>\n      <th>translation_score</th>\n    </tr>\n  </thead>\n  <tbody>\n    <tr>\n      <th>0</th>\n      <td>[Commercial] India's Current Account Slips Int...</td>\n      <td>BW Businessworld Newsletter\\n    Â \\n         ...</td>\n      <td>Email - JCS</td>\n      <td>JCS</td>\n      <td>General Inquiry</td>\n      <td>Customer Service</td>\n      <td>BW Businessworld Newsletter\\n    Â \\n         ...</td>\n      <td>en</td>\n      <td>0.96</td>\n    </tr>\n    <tr>\n      <th>1</th>\n      <td>Re: INVOICE # 910026043; PURCHASE ORDER # PO-D...</td>\n      <td>Dear Sir\\n\\nThe item not yet received.\\n\\nBest...</td>\n      <td>Email - Customer Experience general</td>\n      <td>CxOffice</td>\n      <td>Order Information</td>\n      <td>Customer Service</td>\n      <td>Dear Sir\\n\\nThe item not yet received.\\n\\nBest...</td>\n      <td>en</td>\n      <td>1.00</td>\n    </tr>\n    <tr>\n      <th>2</th>\n      <td>Re: High-quality China Market Research Service...</td>\n      <td>Dear friend,\\n\\n\\n\\nHave a nice day! We are a ...</td>\n      <td>Email - JSAS</td>\n      <td>SAS</td>\n      <td>Software &amp; Application</td>\n      <td>SAS</td>\n      <td>Dear friend,\\n\\nHave a nice day! We are a Shan...</td>\n      <td>en</td>\n      <td>1.00</td>\n    </tr>\n    <tr>\n      <th>3</th>\n      <td>New order specification</td>\n      <td>Hello Sir/Ma\\n\\nWe are interested in your prod...</td>\n      <td>Email - NA- Customer Experience General</td>\n      <td>Amer CCC</td>\n      <td>Product Support</td>\n      <td>Customer Service</td>\n      <td>Hello Sir/Ma\\n\\nWe are interested in your prod...</td>\n      <td>en</td>\n      <td>1.00</td>\n    </tr>\n    <tr>\n      <th>4</th>\n      <td>Fulfillment Set Report</td>\n      <td>Orders not invoiced due to Fulfillment Set for...</td>\n      <td>Email - NA- Customer Experience General</td>\n      <td>Amer CCC</td>\n      <td>Product Support</td>\n      <td>Customer Service</td>\n      <td>Orders not invoiced due to Fulfillment Set for...</td>\n      <td>en</td>\n      <td>1.00</td>\n    </tr>\n  </tbody>\n</table>\n</div>"
          },
          "metadata": {}
        }
      ],
      "execution_count": 2,
      "metadata": {
        "jupyter": {
          "source_hidden": false,
          "outputs_hidden": false
        },
        "nteract": {
          "transient": {
            "deleting": false
          }
        },
        "gather": {
          "logged": 1672409470510
        }
      }
    },
    {
      "cell_type": "markdown",
      "source": [
        "# [START analyze_sentiment]"
      ],
      "metadata": {
        "nteract": {
          "transient": {
            "deleting": false
          }
        }
      }
    },
    {
      "cell_type": "code",
      "source": [
        "# Install the Azure Text Analytics client library for Python with pip:\r\n",
        "!pip install azure-ai-textanalytics"
      ],
      "outputs": [],
      "execution_count": null,
      "metadata": {
        "jupyter": {
          "source_hidden": false,
          "outputs_hidden": false
        },
        "nteract": {
          "transient": {
            "deleting": false
          }
        },
        "gather": {
          "logged": 1672409400111
        }
      }
    },
    {
      "cell_type": "code",
      "source": [
        "from azure.core.credentials import AzureKeyCredential\r\n",
        "from azure.ai.textanalytics import TextAnalyticsClient\r\n",
        "\r\n",
        "\r\n",
        "endpoint = 'https://langservicenotfree.cognitiveservices.azure.com/'\r\n",
        "\r\n",
        "key = '640e29d8e531400f81bfe1885da446b2'\r\n",
        "\r\n",
        "credential = AzureKeyCredential(key)\r\n",
        "text_analytics_client = TextAnalyticsClient(endpoint, credential)\r\n",
        "\r\n",
        "documents = [\r\n",
        "    \"I did not like the restaurant. The food was somehow both too spicy and underseasoned. Additionally, I thought the location was too far away from the playhouse.\",\r\n",
        "    \"The restaurant was decorated beautifully. The atmosphere was unlike any other restaurant I've been to.\",\r\n",
        "    \"The food was yummy. :)\"\r\n",
        "]\r\n",
        "\r\n",
        "def sentiment_function(docs):\r\n",
        "\r\n",
        "    response = text_analytics_client.analyze_sentiment(docs, language=\"en\")\r\n",
        "    result = [doc for doc in response if not doc.is_error]\r\n",
        "\r\n",
        "    for doc in result:\r\n",
        "        print(f\"Overall sentiment: {doc.sentiment}\")\r\n",
        "        print(\r\n",
        "            f\"Scores: positive={doc.confidence_scores.positive}; \"\r\n",
        "            f\"neutral={doc.confidence_scores.neutral}; \"\r\n",
        "            f\"negative={doc.confidence_scores.negative}\\n\"\r\n",
        "        )\r\n",
        "\r\n",
        "    return(result)"
      ],
      "outputs": [],
      "execution_count": 54,
      "metadata": {
        "jupyter": {
          "source_hidden": false,
          "outputs_hidden": false
        },
        "nteract": {
          "transient": {
            "deleting": false
          }
        },
        "gather": {
          "logged": 1672411119075
        }
      }
    },
    {
      "cell_type": "code",
      "source": [
        "sentiment_function(documents)"
      ],
      "outputs": [
        {
          "output_type": "stream",
          "name": "stdout",
          "text": "Overall sentiment: negative\nScores: positive=0.0; neutral=0.01; negative=0.99\n\nOverall sentiment: positive\nScores: positive=1.0; neutral=0.0; negative=0.0\n\nOverall sentiment: positive\nScores: positive=1.0; neutral=0.0; negative=0.0\n\n"
        },
        {
          "output_type": "execute_result",
          "execution_count": 49,
          "data": {
            "text/plain": "[AnalyzeSentimentResult(id=0, sentiment=negative, warnings=[], statistics=None, confidence_scores=SentimentConfidenceScores(positive=0.0, neutral=0.01, negative=0.99), sentences=[SentenceSentiment(text=I did not like the restaurant. , sentiment=negative, confidence_scores=SentimentConfidenceScores(positive=0.0, neutral=0.01, negative=0.99), length=31, offset=0, mined_opinions=[]), SentenceSentiment(text=The food was somehow both too spicy and underseasoned. , sentiment=negative, confidence_scores=SentimentConfidenceScores(positive=0.0, neutral=0.0, negative=0.99), length=55, offset=31, mined_opinions=[]), SentenceSentiment(text=Additionally, I thought the location was too far away from the playhouse., sentiment=negative, confidence_scores=SentimentConfidenceScores(positive=0.0, neutral=0.0, negative=1.0), length=73, offset=86, mined_opinions=[])], is_error=False),\n AnalyzeSentimentResult(id=1, sentiment=positive, warnings=[], statistics=None, confidence_scores=SentimentConfidenceScores(positive=1.0, neutral=0.0, negative=0.0), sentences=[SentenceSentiment(text=The restaurant was decorated beautifully. , sentiment=positive, confidence_scores=SentimentConfidenceScores(positive=1.0, neutral=0.0, negative=0.0), length=42, offset=0, mined_opinions=[]), SentenceSentiment(text=The atmosphere was unlike any other restaurant I've been to., sentiment=neutral, confidence_scores=SentimentConfidenceScores(positive=0.06, neutral=0.77, negative=0.17), length=60, offset=42, mined_opinions=[])], is_error=False),\n AnalyzeSentimentResult(id=2, sentiment=positive, warnings=[], statistics=None, confidence_scores=SentimentConfidenceScores(positive=1.0, neutral=0.0, negative=0.0), sentences=[SentenceSentiment(text=The food was yummy. , sentiment=positive, confidence_scores=SentimentConfidenceScores(positive=1.0, neutral=0.0, negative=0.0), length=20, offset=0, mined_opinions=[])], is_error=False)]"
          },
          "metadata": {}
        }
      ],
      "execution_count": 49,
      "metadata": {
        "jupyter": {
          "source_hidden": false,
          "outputs_hidden": false
        },
        "nteract": {
          "transient": {
            "deleting": false
          }
        },
        "gather": {
          "logged": 1672411023087
        }
      }
    },
    {
      "cell_type": "markdown",
      "source": [
        "## Define list of docs"
      ],
      "metadata": {
        "nteract": {
          "transient": {
            "deleting": false
          }
        }
      }
    },
    {
      "cell_type": "code",
      "source": [
        "temp = df['translation'][1:3]\r\n",
        "docs = temp.to_list()\r\n",
        "print(docs[1])"
      ],
      "outputs": [
        {
          "output_type": "stream",
          "name": "stdout",
          "text": "Dear friend,\n\nHave a nice day! We are a Shanghai-based market research firm, which is specialized in market research and industry analysis for a broad range of industries and sectors in both China and international markets.\n\nOur core services are given below:\n\n- Industry research\n\n- Investment research/equity research\n\n- Market intelligence/expert interview\n\n- Competitor benchmarking\n\n- Commercial due diligence\n\n- Consumer research\n\nWith a decade's experience in the above areas, we have helped many international clients garner deep insights into China as well as other overseas markets.\n\nIf you would like to learn more about our services, please kindly contact us.\n\nYours,\n\n------------\n\nEmail: robertdl@163.com\n\nSkype: robertdl\n"
        }
      ],
      "execution_count": 52,
      "metadata": {
        "jupyter": {
          "source_hidden": false,
          "outputs_hidden": false
        },
        "nteract": {
          "transient": {
            "deleting": false
          }
        },
        "gather": {
          "logged": 1672411085437
        }
      }
    },
    {
      "cell_type": "code",
      "source": [
        "sentiment_function(docs)"
      ],
      "outputs": [
        {
          "output_type": "stream",
          "name": "stdout",
          "text": "Overall sentiment: mixed\nScores: positive=0.53; neutral=0.08; negative=0.39\n\nOverall sentiment: positive\nScores: positive=0.67; neutral=0.33; negative=0.0\n\n"
        },
        {
          "output_type": "execute_result",
          "execution_count": 56,
          "data": {
            "text/plain": "[AnalyzeSentimentResult(id=0, sentiment=mixed, warnings=[], statistics=None, confidence_scores=SentimentConfidenceScores(positive=0.53, neutral=0.08, negative=0.39), sentences=[SentenceSentiment(text=Dear Sir\n , sentiment=positive, confidence_scores=SentimentConfidenceScores(positive=0.69, neutral=0.3, negative=0.0), length=9, offset=0, mined_opinions=[]), SentenceSentiment(text=The item not yet received.\n , sentiment=negative, confidence_scores=SentimentConfidenceScores(positive=0.0, neutral=0.07, negative=0.93), length=27, offset=9, mined_opinions=[]), SentenceSentiment(text=Best Regards Rabie Baba - Service Manager I Email: rabie.albaba@Zahrawigroup.com Dar Al Zahrawi Medical LLC I P.O. Box: 26669, P Code: 11496, Riyadh, KSA I Tel: +966 1 2305533 Ext. 155 I Fax: +966 1 2374730 I Mobile: +966 535439985 I Web: https://urldefense.proofpoint.com/v2/url?u=http-3A__www.zahrawi.com&d=DwIF-g&c=9mghv0deYPYDGP-W745IEdQLV1kHpn4XJRvR6xMRXtA&r=Yndwrn8CjUOtI8eYtFTxKidg8F6xlyT74quS1t40tfo&m=I-f6RNpBAT4av1FXddfbwJ1hR5x1tBkD3,\n AnalyzeSentimentResult(id=1, sentiment=positive, warnings=[], statistics=None, confidence_scores=SentimentConfidenceScores(positive=0.67, neutral=0.33, negative=0.0), sentences=[SentenceSentiment(text=Dear friend,\n , sentiment=neutral, confidence_scores=SentimentConfidenceScores(positive=0.31, neutral=0.68, negative=0.01), length=13, offset=0, mined_opinions=[]), SentenceSentiment(text=Have a nice day! , sentiment=positive, confidence_scores=SentimentConfidenceScores(positive=0.76, neutral=0.23, negative=0.0), length=17, offset=13, mined_opinions=[]), SentenceSentiment(text=We are a Shanghai-based market research firm, which is specialized in market research and industry analysis for a broad range of industries and sectors in both China and international markets.\n , sentiment=neutral, confidence_scores=SentimentConfidenceScores(positive=0.0, neutral=1.0, negative=0.0), length=193, offset=30, mined_opinions=[]), SentenceSentiment(text=Our core services are given below:\n , sentiment=neutral, confidence_scores=Sent]"
          },
          "metadata": {}
        }
      ],
      "execution_count": 56,
      "metadata": {
        "jupyter": {
          "source_hidden": false,
          "outputs_hidden": false
        },
        "nteract": {
          "transient": {
            "deleting": false
          }
        },
        "gather": {
          "logged": 1672411128453
        }
      }
    },
    {
      "cell_type": "code",
      "source": [],
      "outputs": [],
      "execution_count": null,
      "metadata": {
        "jupyter": {
          "source_hidden": false,
          "outputs_hidden": false
        },
        "nteract": {
          "transient": {
            "deleting": false
          }
        }
      }
    }
  ],
  "metadata": {
    "kernelspec": {
      "name": "python38-azureml",
      "language": "python",
      "display_name": "Python 3.8 - AzureML"
    },
    "language_info": {
      "name": "python",
      "version": "3.8.5",
      "mimetype": "text/x-python",
      "codemirror_mode": {
        "name": "ipython",
        "version": 3
      },
      "pygments_lexer": "ipython3",
      "nbconvert_exporter": "python",
      "file_extension": ".py"
    },
    "kernel_info": {
      "name": "python38-azureml"
    },
    "microsoft": {
      "host": {
        "AzureML": {
          "notebookHasBeenCompleted": true
        }
      }
    },
    "nteract": {
      "version": "nteract-front-end@1.0.0"
    }
  },
  "nbformat": 4,
  "nbformat_minor": 2
}