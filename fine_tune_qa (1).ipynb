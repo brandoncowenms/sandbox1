{
  "cells": [
    {
      "cell_type": "code",
      "source": [
        "# https://huggingface.co/course/chapter7/7?fw=pt"
      ],
      "outputs": [],
      "execution_count": null,
      "metadata": {}
    },
    {
      "cell_type": "code",
      "source": [
        "from datasets import load_dataset\r\n",
        "\r\n",
        "raw_datasets = load_dataset(\"squad\")"
      ],
      "outputs": [
        {
          "output_type": "display_data",
          "data": {
            "text/plain": "Downloading builder script:   0%|          | 0.00/1.97k [00:00<?, ?B/s]",
            "application/vnd.jupyter.widget-view+json": {
              "version_major": 2,
              "version_minor": 0,
              "model_id": "3c0d879b809241f88bcd36cdcb70f6c6"
            }
          },
          "metadata": {}
        },
        {
          "output_type": "display_data",
          "data": {
            "text/plain": "Downloading metadata:   0%|          | 0.00/1.02k [00:00<?, ?B/s]",
            "application/vnd.jupyter.widget-view+json": {
              "version_major": 2,
              "version_minor": 0,
              "model_id": "b79bf8e6aa0f4b56960794943c47c28a"
            }
          },
          "metadata": {}
        },
        {
          "output_type": "stream",
          "name": "stdout",
          "text": "Downloading and preparing dataset squad/plain_text (download: 33.51 MiB, generated: 85.63 MiB, post-processed: Unknown size, total: 119.14 MiB) to /home/azureuser/.cache/huggingface/datasets/squad/plain_text/1.0.0/d6ec3ceb99ca480ce37cdd35555d6cb2511d223b9150cce08a837ef62ffea453...\n"
        },
        {
          "output_type": "display_data",
          "data": {
            "text/plain": "Downloading data files:   0%|          | 0/2 [00:00<?, ?it/s]",
            "application/vnd.jupyter.widget-view+json": {
              "version_major": 2,
              "version_minor": 0,
              "model_id": "94e0106eacfb40f18752995ea8342dff"
            }
          },
          "metadata": {}
        },
        {
          "output_type": "display_data",
          "data": {
            "text/plain": "Downloading data:   0%|          | 0.00/8.12M [00:00<?, ?B/s]",
            "application/vnd.jupyter.widget-view+json": {
              "version_major": 2,
              "version_minor": 0,
              "model_id": "b79d4081c3db4db6bc780509b9e271f4"
            }
          },
          "metadata": {}
        },
        {
          "output_type": "display_data",
          "data": {
            "text/plain": "Downloading data:   0%|          | 0.00/1.05M [00:00<?, ?B/s]",
            "application/vnd.jupyter.widget-view+json": {
              "version_major": 2,
              "version_minor": 0,
              "model_id": "8844281faeaa4ef0a1c16ae1ef93c3aa"
            }
          },
          "metadata": {}
        },
        {
          "output_type": "display_data",
          "data": {
            "text/plain": "Extracting data files:   0%|          | 0/2 [00:00<?, ?it/s]",
            "application/vnd.jupyter.widget-view+json": {
              "version_major": 2,
              "version_minor": 0,
              "model_id": "70a1ebf4078b4ea99e733e0b320c3b29"
            }
          },
          "metadata": {}
        },
        {
          "output_type": "display_data",
          "data": {
            "text/plain": "Generating train split:   0%|          | 0/87599 [00:00<?, ? examples/s]",
            "application/vnd.jupyter.widget-view+json": {
              "version_major": 2,
              "version_minor": 0,
              "model_id": "e336ea7b7978446d88229c44e99dfde3"
            }
          },
          "metadata": {}
        },
        {
          "output_type": "display_data",
          "data": {
            "text/plain": "Generating validation split:   0%|          | 0/10570 [00:00<?, ? examples/s]",
            "application/vnd.jupyter.widget-view+json": {
              "version_major": 2,
              "version_minor": 0,
              "model_id": "dbf16e8315524004b61bbb7cba7f4727"
            }
          },
          "metadata": {}
        },
        {
          "output_type": "stream",
          "name": "stdout",
          "text": "Dataset squad downloaded and prepared to /home/azureuser/.cache/huggingface/datasets/squad/plain_text/1.0.0/d6ec3ceb99ca480ce37cdd35555d6cb2511d223b9150cce08a837ef62ffea453. Subsequent calls will reuse this data.\n"
        },
        {
          "output_type": "display_data",
          "data": {
            "text/plain": "  0%|          | 0/2 [00:00<?, ?it/s]",
            "application/vnd.jupyter.widget-view+json": {
              "version_major": 2,
              "version_minor": 0,
              "model_id": "681f66d2f7cc482b8f7513bb11a13335"
            }
          },
          "metadata": {}
        }
      ],
      "execution_count": 1,
      "metadata": {
        "jupyter": {
          "source_hidden": false,
          "outputs_hidden": false
        },
        "nteract": {
          "transient": {
            "deleting": false
          }
        },
        "gather": {
          "logged": 1666637691905
        }
      }
    },
    {
      "cell_type": "code",
      "source": [
        "raw_datasets"
      ],
      "outputs": [
        {
          "output_type": "execute_result",
          "execution_count": 2,
          "data": {
            "text/plain": "DatasetDict({\n    train: Dataset({\n        features: ['id', 'title', 'context', 'question', 'answers'],\n        num_rows: 87599\n    })\n    validation: Dataset({\n        features: ['id', 'title', 'context', 'question', 'answers'],\n        num_rows: 10570\n    })\n})"
          },
          "metadata": {}
        }
      ],
      "execution_count": 2,
      "metadata": {
        "jupyter": {
          "source_hidden": false,
          "outputs_hidden": false
        },
        "nteract": {
          "transient": {
            "deleting": false
          }
        },
        "gather": {
          "logged": 1666637696280
        }
      }
    },
    {
      "cell_type": "code",
      "source": [
        "print(\"Context: \", raw_datasets[\"train\"][0][\"context\"])\r\n",
        "print(\"Question: \", raw_datasets[\"train\"][0][\"question\"])\r\n",
        "print(\"Answer: \", raw_datasets[\"train\"][0][\"answers\"])"
      ],
      "outputs": [
        {
          "output_type": "stream",
          "name": "stdout",
          "text": "Context:  Architecturally, the school has a Catholic character. Atop the Main Building's gold dome is a golden statue of the Virgin Mary. Immediately in front of the Main Building and facing it, is a copper statue of Christ with arms upraised with the legend \"Venite Ad Me Omnes\". Next to the Main Building is the Basilica of the Sacred Heart. Immediately behind the basilica is the Grotto, a Marian place of prayer and reflection. It is a replica of the grotto at Lourdes, France where the Virgin Mary reputedly appeared to Saint Bernadette Soubirous in 1858. At the end of the main drive (and in a direct line that connects through 3 statues and the Gold Dome), is a simple, modern stone statue of Mary.\nQuestion:  To whom did the Virgin Mary allegedly appear in 1858 in Lourdes France?\nAnswer:  {'text': ['Saint Bernadette Soubirous'], 'answer_start': [515]}\n"
        }
      ],
      "execution_count": 5,
      "metadata": {
        "jupyter": {
          "source_hidden": false,
          "outputs_hidden": false
        },
        "nteract": {
          "transient": {
            "deleting": false
          }
        },
        "gather": {
          "logged": 1666637734889
        }
      }
    },
    {
      "cell_type": "code",
      "source": [
        "print(raw_datasets[\"validation\"][2][\"context\"])\r\n",
        "print(raw_datasets[\"validation\"][2][\"question\"])"
      ],
      "outputs": [
        {
          "output_type": "stream",
          "name": "stdout",
          "text": "Super Bowl 50 was an American football game to determine the champion of the National Football League (NFL) for the 2015 season. The American Football Conference (AFC) champion Denver Broncos defeated the National Football Conference (NFC) champion Carolina Panthers 24–10 to earn their third Super Bowl title. The game was played on February 7, 2016, at Levi's Stadium in the San Francisco Bay Area at Santa Clara, California. As this was the 50th Super Bowl, the league emphasized the \"golden anniversary\" with various gold-themed initiatives, as well as temporarily suspending the tradition of naming each Super Bowl game with Roman numerals (under which the game would have been known as \"Super Bowl L\"), so that the logo could prominently feature the Arabic numerals 50.\nWhere did Super Bowl 50 take place?\n"
        }
      ],
      "execution_count": 6,
      "metadata": {
        "jupyter": {
          "source_hidden": false,
          "outputs_hidden": false
        },
        "nteract": {
          "transient": {
            "deleting": false
          }
        },
        "gather": {
          "logged": 1666637750380
        }
      }
    },
    {
      "cell_type": "code",
      "source": [
        "from transformers import AutoTokenizer\r\n",
        "\r\n",
        "model_checkpoint = \"bert-base-cased\"\r\n",
        "tokenizer = AutoTokenizer.from_pretrained(model_checkpoint)"
      ],
      "outputs": [],
      "execution_count": 7,
      "metadata": {
        "jupyter": {
          "source_hidden": false,
          "outputs_hidden": false
        },
        "nteract": {
          "transient": {
            "deleting": false
          }
        },
        "gather": {
          "logged": 1666637773723
        }
      }
    },
    {
      "cell_type": "code",
      "source": [
        "tokenizer.is_fast"
      ],
      "outputs": [
        {
          "output_type": "execute_result",
          "execution_count": 8,
          "data": {
            "text/plain": "True"
          },
          "metadata": {}
        }
      ],
      "execution_count": 8,
      "metadata": {
        "jupyter": {
          "source_hidden": false,
          "outputs_hidden": false
        },
        "nteract": {
          "transient": {
            "deleting": false
          }
        },
        "gather": {
          "logged": 1666637773854
        }
      }
    },
    {
      "cell_type": "markdown",
      "source": [
        "### We can pass to our tokenizer the question and the context together, and it will properly insert the special tokens to form a sentence like this:\r\n",
        "\r\n",
        "[CLS] question [SEP] context [SEP]"
      ],
      "metadata": {
        "nteract": {
          "transient": {
            "deleting": false
          }
        }
      }
    },
    {
      "cell_type": "code",
      "source": [
        "# Let's double check\r\n",
        "\r\n",
        "context = raw_datasets[\"train\"][0][\"context\"]\r\n",
        "question = raw_datasets[\"train\"][0][\"question\"]\r\n",
        "\r\n",
        "inputs = tokenizer(question, context)\r\n",
        "tokenizer.decode(inputs[\"input_ids\"])"
      ],
      "outputs": [
        {
          "output_type": "execute_result",
          "execution_count": 9,
          "data": {
            "text/plain": "'[CLS] To whom did the Virgin Mary allegedly appear in 1858 in Lourdes France? [SEP] Architecturally, the school has a Catholic character. Atop the Main Building\\'s gold dome is a golden statue of the Virgin Mary. Immediately in front of the Main Building and facing it, is a copper statue of Christ with arms upraised with the legend \" Venite Ad Me Omnes \". Next to the Main Building is the Basilica of the Sacred Heart. Immediately behind the basilica is the Grotto, a Marian place of prayer and reflection. It is a replica of the grotto at Lourdes, France where the Virgin Mary reputedly appeared to Saint Bernadette Soubirous in 1858. At the end of the main drive ( and in a direct line that connects through 3 statues and the Gold Dome ), is a simple, modern stone statue of Mary. [SEP]'"
          },
          "metadata": {}
        }
      ],
      "execution_count": 9,
      "metadata": {
        "jupyter": {
          "source_hidden": false,
          "outputs_hidden": false
        },
        "nteract": {
          "transient": {
            "deleting": false
          }
        },
        "gather": {
          "logged": 1666637859774
        }
      }
    },
    {
      "cell_type": "code",
      "source": [
        "inputs = tokenizer(\r\n",
        "    question,\r\n",
        "    context,\r\n",
        "    max_length=100,\r\n",
        "    truncation=\"only_second\",\r\n",
        "    stride=50,\r\n",
        "    return_overflowing_tokens=True,\r\n",
        ")\r\n",
        "\r\n",
        "for ids in inputs[\"input_ids\"]:\r\n",
        "    print(tokenizer.decode(ids))"
      ],
      "outputs": [
        {
          "output_type": "stream",
          "name": "stdout",
          "text": "[CLS] To whom did the Virgin Mary allegedly appear in 1858 in Lourdes France? [SEP] Architecturally, the school has a Catholic character. Atop the Main Building's gold dome is a golden statue of the Virgin Mary. Immediately in front of the Main Building and facing it, is a copper statue of Christ with arms upraised with the legend \" Venite Ad Me Omnes \". Next to the Main Building is the Basilica of the Sacred Heart. Immediately behind the basi [SEP]\n[CLS] To whom did the Virgin Mary allegedly appear in 1858 in Lourdes France? [SEP] the Main Building and facing it, is a copper statue of Christ with arms upraised with the legend \" Venite Ad Me Omnes \". Next to the Main Building is the Basilica of the Sacred Heart. Immediately behind the basilica is the Grotto, a Marian place of prayer and reflection. It is a replica of the grotto at Lourdes, France where the Virgin [SEP]\n[CLS] To whom did the Virgin Mary allegedly appear in 1858 in Lourdes France? [SEP] Next to the Main Building is the Basilica of the Sacred Heart. Immediately behind the basilica is the Grotto, a Marian place of prayer and reflection. It is a replica of the grotto at Lourdes, France where the Virgin Mary reputedly appeared to Saint Bernadette Soubirous in 1858. At the end of the main drive ( and in a direct line that connects through 3 [SEP]\n[CLS] To whom did the Virgin Mary allegedly appear in 1858 in Lourdes France? [SEP]. It is a replica of the grotto at Lourdes, France where the Virgin Mary reputedly appeared to Saint Bernadette Soubirous in 1858. At the end of the main drive ( and in a direct line that connects through 3 statues and the Gold Dome ), is a simple, modern stone statue of Mary. [SEP]\n"
        }
      ],
      "execution_count": 10,
      "metadata": {
        "jupyter": {
          "source_hidden": false,
          "outputs_hidden": false
        },
        "nteract": {
          "transient": {
            "deleting": false
          }
        },
        "gather": {
          "logged": 1666637866454
        }
      }
    },
    {
      "cell_type": "code",
      "source": [
        "inputs = tokenizer(\r\n",
        "    question,\r\n",
        "    context,\r\n",
        "    max_length=100,\r\n",
        "    truncation=\"only_second\",\r\n",
        "    stride=50,\r\n",
        "    return_overflowing_tokens=True,\r\n",
        "    return_offsets_mapping=True,\r\n",
        ")\r\n",
        "inputs.keys()"
      ],
      "outputs": [
        {
          "output_type": "execute_result",
          "execution_count": 11,
          "data": {
            "text/plain": "dict_keys(['input_ids', 'token_type_ids', 'attention_mask', 'offset_mapping', 'overflow_to_sample_mapping'])"
          },
          "metadata": {}
        }
      ],
      "execution_count": 11,
      "metadata": {
        "jupyter": {
          "source_hidden": false,
          "outputs_hidden": false
        },
        "nteract": {
          "transient": {
            "deleting": false
          }
        },
        "gather": {
          "logged": 1666637873783
        }
      }
    },
    {
      "cell_type": "code",
      "source": [
        "inputs[\"overflow_to_sample_mapping\"]"
      ],
      "outputs": [
        {
          "output_type": "execute_result",
          "execution_count": 13,
          "data": {
            "text/plain": "[0, 0, 0, 0]"
          },
          "metadata": {}
        }
      ],
      "execution_count": 13,
      "metadata": {
        "jupyter": {
          "source_hidden": false,
          "outputs_hidden": false
        },
        "nteract": {
          "transient": {
            "deleting": false
          }
        },
        "gather": {
          "logged": 1666637904006
        }
      }
    },
    {
      "cell_type": "code",
      "source": [
        "inputs = tokenizer(\r\n",
        "    raw_datasets[\"train\"][2:6][\"question\"],\r\n",
        "    raw_datasets[\"train\"][2:6][\"context\"],\r\n",
        "    max_length=100,\r\n",
        "    truncation=\"only_second\",\r\n",
        "    stride=50,\r\n",
        "    return_overflowing_tokens=True,\r\n",
        "    return_offsets_mapping=True,\r\n",
        ")\r\n",
        "\r\n",
        "print(f\"The 4 examples gave {len(inputs['input_ids'])} features.\")\r\n",
        "print(f\"Here is where each comes from: {inputs['overflow_to_sample_mapping']}.\")"
      ],
      "outputs": [
        {
          "output_type": "stream",
          "name": "stdout",
          "text": "The 4 examples gave 19 features.\nHere is where each comes from: [0, 0, 0, 0, 1, 1, 1, 1, 2, 2, 2, 2, 3, 3, 3, 3, 3, 3, 3].\n"
        }
      ],
      "execution_count": 14,
      "metadata": {
        "jupyter": {
          "source_hidden": false,
          "outputs_hidden": false
        },
        "nteract": {
          "transient": {
            "deleting": false
          }
        },
        "gather": {
          "logged": 1666637911208
        }
      }
    },
    {
      "cell_type": "code",
      "source": [
        "answers = raw_datasets[\"train\"][2:6][\"answers\"]\r\n",
        "start_positions = []\r\n",
        "end_positions = []\r\n",
        "\r\n",
        "for i, offset in enumerate(inputs[\"offset_mapping\"]):\r\n",
        "    sample_idx = inputs[\"overflow_to_sample_mapping\"][i]\r\n",
        "    answer = answers[sample_idx]\r\n",
        "    start_char = answer[\"answer_start\"][0]\r\n",
        "    end_char = answer[\"answer_start\"][0] + len(answer[\"text\"][0])\r\n",
        "    sequence_ids = inputs.sequence_ids(i)\r\n",
        "\r\n",
        "    # Find the start and end of the context\r\n",
        "    idx = 0\r\n",
        "    while sequence_ids[idx] != 1:\r\n",
        "        idx += 1\r\n",
        "    context_start = idx\r\n",
        "    while sequence_ids[idx] == 1:\r\n",
        "        idx += 1\r\n",
        "    context_end = idx - 1\r\n",
        "\r\n",
        "    # If the answer is not fully inside the context, label is (0, 0)\r\n",
        "    if offset[context_start][0] > start_char or offset[context_end][1] < end_char:\r\n",
        "        start_positions.append(0)\r\n",
        "        end_positions.append(0)\r\n",
        "    else:\r\n",
        "        # Otherwise it's the start and end token positions\r\n",
        "        idx = context_start\r\n",
        "        while idx <= context_end and offset[idx][0] <= start_char:\r\n",
        "            idx += 1\r\n",
        "        start_positions.append(idx - 1)\r\n",
        "\r\n",
        "        idx = context_end\r\n",
        "        while idx >= context_start and offset[idx][1] >= end_char:\r\n",
        "            idx -= 1\r\n",
        "        end_positions.append(idx + 1)\r\n",
        "\r\n",
        "start_positions, end_positions"
      ],
      "outputs": [
        {
          "output_type": "execute_result",
          "execution_count": 15,
          "data": {
            "text/plain": "([83, 51, 19, 0, 0, 64, 27, 0, 34, 0, 0, 0, 67, 34, 0, 0, 0, 0, 0],\n [85, 53, 21, 0, 0, 70, 33, 0, 40, 0, 0, 0, 68, 35, 0, 0, 0, 0, 0])"
          },
          "metadata": {}
        }
      ],
      "execution_count": 15,
      "metadata": {
        "jupyter": {
          "source_hidden": false,
          "outputs_hidden": false
        },
        "nteract": {
          "transient": {
            "deleting": false
          }
        },
        "gather": {
          "logged": 1666637925324
        }
      }
    },
    {
      "cell_type": "code",
      "source": [
        "idx = 0\r\n",
        "sample_idx = inputs[\"overflow_to_sample_mapping\"][idx]\r\n",
        "answer = answers[sample_idx][\"text\"][0]\r\n",
        "\r\n",
        "start = start_positions[idx]\r\n",
        "end = end_positions[idx]\r\n",
        "labeled_answer = tokenizer.decode(inputs[\"input_ids\"][idx][start : end + 1])\r\n",
        "\r\n",
        "print(f\"Theoretical answer: {answer}, labels give: {labeled_answer}\")"
      ],
      "outputs": [
        {
          "output_type": "stream",
          "name": "stdout",
          "text": "Theoretical answer: the Main Building, labels give: the Main Building\n"
        }
      ],
      "execution_count": 16,
      "metadata": {
        "jupyter": {
          "source_hidden": false,
          "outputs_hidden": false
        },
        "nteract": {
          "transient": {
            "deleting": false
          }
        },
        "gather": {
          "logged": 1666637934147
        }
      }
    },
    {
      "cell_type": "code",
      "source": [
        "idx = 4\r\n",
        "sample_idx = inputs[\"overflow_to_sample_mapping\"][idx]\r\n",
        "answer = answers[sample_idx][\"text\"][0]\r\n",
        "\r\n",
        "decoded_example = tokenizer.decode(inputs[\"input_ids\"][idx])\r\n",
        "print(f\"Theoretical answer: {answer}, decoded example: {decoded_example}\")"
      ],
      "outputs": [
        {
          "output_type": "stream",
          "name": "stdout",
          "text": "Theoretical answer: a Marian place of prayer and reflection, decoded example: [CLS] What is the Grotto at Notre Dame? [SEP] Architecturally, the school has a Catholic character. Atop the Main Building's gold dome is a golden statue of the Virgin Mary. Immediately in front of the Main Building and facing it, is a copper statue of Christ with arms upraised with the legend \" Venite Ad Me Omnes \". Next to the Main Building is the Basilica of the Sacred Heart. Immediately behind the basilica is the Grot [SEP]\n"
        }
      ],
      "execution_count": 17,
      "metadata": {
        "jupyter": {
          "source_hidden": false,
          "outputs_hidden": false
        },
        "nteract": {
          "transient": {
            "deleting": false
          }
        },
        "gather": {
          "logged": 1666637944780
        }
      }
    },
    {
      "cell_type": "code",
      "source": [
        "max_length = 384\r\n",
        "stride = 128\r\n",
        "\r\n",
        "\r\n",
        "def preprocess_training_examples(examples):\r\n",
        "    questions = [q.strip() for q in examples[\"question\"]]\r\n",
        "    inputs = tokenizer(\r\n",
        "        questions,\r\n",
        "        examples[\"context\"],\r\n",
        "        max_length=max_length,\r\n",
        "        truncation=\"only_second\",\r\n",
        "        stride=stride,\r\n",
        "        return_overflowing_tokens=True,\r\n",
        "        return_offsets_mapping=True,\r\n",
        "        padding=\"max_length\",\r\n",
        "    )\r\n",
        "\r\n",
        "    offset_mapping = inputs.pop(\"offset_mapping\")\r\n",
        "    sample_map = inputs.pop(\"overflow_to_sample_mapping\")\r\n",
        "    answers = examples[\"answers\"]\r\n",
        "    start_positions = []\r\n",
        "    end_positions = []\r\n",
        "\r\n",
        "    for i, offset in enumerate(offset_mapping):\r\n",
        "        sample_idx = sample_map[i]\r\n",
        "        answer = answers[sample_idx]\r\n",
        "        start_char = answer[\"answer_start\"][0]\r\n",
        "        end_char = answer[\"answer_start\"][0] + len(answer[\"text\"][0])\r\n",
        "        sequence_ids = inputs.sequence_ids(i)\r\n",
        "\r\n",
        "        # Find the start and end of the context\r\n",
        "        idx = 0\r\n",
        "        while sequence_ids[idx] != 1:\r\n",
        "            idx += 1\r\n",
        "        context_start = idx\r\n",
        "        while sequence_ids[idx] == 1:\r\n",
        "            idx += 1\r\n",
        "        context_end = idx - 1\r\n",
        "\r\n",
        "        # If the answer is not fully inside the context, label is (0, 0)\r\n",
        "        if offset[context_start][0] > start_char or offset[context_end][1] < end_char:\r\n",
        "            start_positions.append(0)\r\n",
        "            end_positions.append(0)\r\n",
        "        else:\r\n",
        "            # Otherwise it's the start and end token positions\r\n",
        "            idx = context_start\r\n",
        "            while idx <= context_end and offset[idx][0] <= start_char:\r\n",
        "                idx += 1\r\n",
        "            start_positions.append(idx - 1)\r\n",
        "\r\n",
        "            idx = context_end\r\n",
        "            while idx >= context_start and offset[idx][1] >= end_char:\r\n",
        "                idx -= 1\r\n",
        "            end_positions.append(idx + 1)\r\n",
        "\r\n",
        "    inputs[\"start_positions\"] = start_positions\r\n",
        "    inputs[\"end_positions\"] = end_positions\r\n",
        "    return inputs"
      ],
      "outputs": [],
      "execution_count": 18,
      "metadata": {
        "jupyter": {
          "source_hidden": false,
          "outputs_hidden": false
        },
        "nteract": {
          "transient": {
            "deleting": false
          }
        },
        "gather": {
          "logged": 1666637958793
        }
      }
    },
    {
      "cell_type": "code",
      "source": [
        "train_dataset = raw_datasets[\"train\"].map(\r\n",
        "    preprocess_training_examples,\r\n",
        "    batched=True,\r\n",
        "    remove_columns=raw_datasets[\"train\"].column_names,\r\n",
        ")\r\n",
        "len(raw_datasets[\"train\"]), len(train_dataset)"
      ],
      "outputs": [
        {
          "output_type": "stream",
          "name": "stderr",
          "text": "Parameter 'function'=<function preprocess_training_examples at 0x7fd4fce69940> of the transform datasets.arrow_dataset.Dataset._map_single couldn't be hashed properly, a random hash was used instead. Make sure your transforms and parameters are serializable with pickle or dill for the dataset fingerprinting and caching to work. If you reuse this transform, the caching mechanism will consider it to be different from the previous calls and recompute everything. This warning is only showed once. Subsequent hashing failures won't be showed.\n"
        },
        {
          "output_type": "display_data",
          "data": {
            "text/plain": "  0%|          | 0/88 [00:00<?, ?ba/s]",
            "application/vnd.jupyter.widget-view+json": {
              "version_major": 2,
              "version_minor": 0,
              "model_id": "5ee34b01c2f34dd69e74a9fea685f4d0"
            }
          },
          "metadata": {}
        },
        {
          "output_type": "execute_result",
          "execution_count": 19,
          "data": {
            "text/plain": "(87599, 88729)"
          },
          "metadata": {}
        }
      ],
      "execution_count": 19,
      "metadata": {
        "jupyter": {
          "source_hidden": false,
          "outputs_hidden": false
        },
        "nteract": {
          "transient": {
            "deleting": false
          }
        },
        "gather": {
          "logged": 1666638003866
        }
      }
    },
    {
      "cell_type": "code",
      "source": [
        "def preprocess_validation_examples(examples):\r\n",
        "    questions = [q.strip() for q in examples[\"question\"]]\r\n",
        "    inputs = tokenizer(\r\n",
        "        questions,\r\n",
        "        examples[\"context\"],\r\n",
        "        max_length=max_length,\r\n",
        "        truncation=\"only_second\",\r\n",
        "        stride=stride,\r\n",
        "        return_overflowing_tokens=True,\r\n",
        "        return_offsets_mapping=True,\r\n",
        "        padding=\"max_length\",\r\n",
        "    )\r\n",
        "\r\n",
        "    sample_map = inputs.pop(\"overflow_to_sample_mapping\")\r\n",
        "    example_ids = []\r\n",
        "\r\n",
        "    for i in range(len(inputs[\"input_ids\"])):\r\n",
        "        sample_idx = sample_map[i]\r\n",
        "        example_ids.append(examples[\"id\"][sample_idx])\r\n",
        "\r\n",
        "        sequence_ids = inputs.sequence_ids(i)\r\n",
        "        offset = inputs[\"offset_mapping\"][i]\r\n",
        "        inputs[\"offset_mapping\"][i] = [\r\n",
        "            o if sequence_ids[k] == 1 else None for k, o in enumerate(offset)\r\n",
        "        ]\r\n",
        "\r\n",
        "    inputs[\"example_id\"] = example_ids\r\n",
        "    return inputs"
      ],
      "outputs": [],
      "execution_count": 20,
      "metadata": {
        "jupyter": {
          "source_hidden": false,
          "outputs_hidden": false
        },
        "nteract": {
          "transient": {
            "deleting": false
          }
        },
        "gather": {
          "logged": 1666638004459
        }
      }
    },
    {
      "cell_type": "code",
      "source": [
        "validation_dataset = raw_datasets[\"validation\"].map(\r\n",
        "    preprocess_validation_examples,\r\n",
        "    batched=True,\r\n",
        "    remove_columns=raw_datasets[\"validation\"].column_names,\r\n",
        ")\r\n",
        "len(raw_datasets[\"validation\"]), len(validation_dataset)"
      ],
      "outputs": [
        {
          "output_type": "display_data",
          "data": {
            "text/plain": "  0%|          | 0/11 [00:00<?, ?ba/s]",
            "application/vnd.jupyter.widget-view+json": {
              "version_major": 2,
              "version_minor": 0,
              "model_id": "244f99b1167e458086a6455b8914b15c"
            }
          },
          "metadata": {}
        },
        {
          "output_type": "execute_result",
          "execution_count": 21,
          "data": {
            "text/plain": "(10570, 10822)"
          },
          "metadata": {}
        }
      ],
      "execution_count": 21,
      "metadata": {
        "jupyter": {
          "source_hidden": false,
          "outputs_hidden": false
        },
        "nteract": {
          "transient": {
            "deleting": false
          }
        },
        "gather": {
          "logged": 1666638051809
        }
      }
    },
    {
      "cell_type": "markdown",
      "source": [
        "## Fine Tuning"
      ],
      "metadata": {
        "nteract": {
          "transient": {
            "deleting": false
          }
        }
      }
    },
    {
      "cell_type": "code",
      "source": [
        "small_eval_set = raw_datasets[\"validation\"].select(range(100))\r\n",
        "trained_checkpoint = \"distilbert-base-cased-distilled-squad\"\r\n",
        "\r\n",
        "tokenizer = AutoTokenizer.from_pretrained(trained_checkpoint)\r\n",
        "eval_set = small_eval_set.map(\r\n",
        "    preprocess_validation_examples,\r\n",
        "    batched=True,\r\n",
        "    remove_columns=raw_datasets[\"validation\"].column_names,\r\n",
        ")"
      ],
      "outputs": [
        {
          "output_type": "display_data",
          "data": {
            "text/plain": "  0%|          | 0/1 [00:00<?, ?ba/s]",
            "application/vnd.jupyter.widget-view+json": {
              "version_major": 2,
              "version_minor": 0,
              "model_id": "8d7e9c9081884146a2e0f0cefb7b9c5b"
            }
          },
          "metadata": {}
        }
      ],
      "execution_count": 22,
      "metadata": {
        "jupyter": {
          "source_hidden": false,
          "outputs_hidden": false
        },
        "nteract": {
          "transient": {
            "deleting": false
          }
        },
        "gather": {
          "logged": 1666638053196
        }
      }
    },
    {
      "cell_type": "code",
      "source": [
        "tokenizer = AutoTokenizer.from_pretrained(model_checkpoint)"
      ],
      "outputs": [],
      "execution_count": 23,
      "metadata": {
        "jupyter": {
          "source_hidden": false,
          "outputs_hidden": false
        },
        "nteract": {
          "transient": {
            "deleting": false
          }
        },
        "gather": {
          "logged": 1666638053479
        }
      }
    },
    {
      "cell_type": "code",
      "source": [
        "import torch\r\n",
        "from transformers import AutoModelForQuestionAnswering\r\n",
        "\r\n",
        "eval_set_for_model = eval_set.remove_columns([\"example_id\", \"offset_mapping\"])\r\n",
        "eval_set_for_model.set_format(\"torch\")\r\n",
        "\r\n",
        "device = torch.device(\"cuda\") if torch.cuda.is_available() else torch.device(\"cpu\")\r\n",
        "batch = {k: eval_set_for_model[k].to(device) for k in eval_set_for_model.column_names}\r\n",
        "trained_model = AutoModelForQuestionAnswering.from_pretrained(trained_checkpoint).to(\r\n",
        "    device\r\n",
        ")\r\n",
        "\r\n",
        "with torch.no_grad():\r\n",
        "    outputs = trained_model(**batch)"
      ],
      "outputs": [],
      "execution_count": 24,
      "metadata": {
        "jupyter": {
          "source_hidden": false,
          "outputs_hidden": false
        },
        "nteract": {
          "transient": {
            "deleting": false
          }
        },
        "gather": {
          "logged": 1666638091307
        }
      }
    },
    {
      "cell_type": "code",
      "source": [
        "start_logits = outputs.start_logits.cpu().numpy()\r\n",
        "end_logits = outputs.end_logits.cpu().numpy()"
      ],
      "outputs": [],
      "execution_count": 25,
      "metadata": {
        "jupyter": {
          "source_hidden": false,
          "outputs_hidden": false
        },
        "nteract": {
          "transient": {
            "deleting": false
          }
        },
        "gather": {
          "logged": 1666638093404
        }
      }
    },
    {
      "cell_type": "code",
      "source": [
        "import collections\r\n",
        "\r\n",
        "example_to_features = collections.defaultdict(list)\r\n",
        "for idx, feature in enumerate(eval_set):\r\n",
        "    example_to_features[feature[\"example_id\"]].append(idx)"
      ],
      "outputs": [],
      "execution_count": 26,
      "metadata": {
        "jupyter": {
          "source_hidden": false,
          "outputs_hidden": false
        },
        "nteract": {
          "transient": {
            "deleting": false
          }
        },
        "gather": {
          "logged": 1666638093569
        }
      }
    },
    {
      "cell_type": "code",
      "source": [
        "import numpy as np\r\n",
        "\r\n",
        "n_best = 20\r\n",
        "max_answer_length = 30\r\n",
        "predicted_answers = []\r\n",
        "\r\n",
        "for example in small_eval_set:\r\n",
        "    example_id = example[\"id\"]\r\n",
        "    context = example[\"context\"]\r\n",
        "    answers = []\r\n",
        "\r\n",
        "    for feature_index in example_to_features[example_id]:\r\n",
        "        start_logit = start_logits[feature_index]\r\n",
        "        end_logit = end_logits[feature_index]\r\n",
        "        offsets = eval_set[\"offset_mapping\"][feature_index]\r\n",
        "\r\n",
        "        start_indexes = np.argsort(start_logit)[-1 : -n_best - 1 : -1].tolist()\r\n",
        "        end_indexes = np.argsort(end_logit)[-1 : -n_best - 1 : -1].tolist()\r\n",
        "        for start_index in start_indexes:\r\n",
        "            for end_index in end_indexes:\r\n",
        "                # Skip answers that are not fully in the context\r\n",
        "                if offsets[start_index] is None or offsets[end_index] is None:\r\n",
        "                    continue\r\n",
        "                # Skip answers with a length that is either < 0 or > max_answer_length.\r\n",
        "                if (\r\n",
        "                    end_index < start_index\r\n",
        "                    or end_index - start_index + 1 > max_answer_length\r\n",
        "                ):\r\n",
        "                    continue\r\n",
        "\r\n",
        "                answers.append(\r\n",
        "                    {\r\n",
        "                        \"text\": context[offsets[start_index][0] : offsets[end_index][1]],\r\n",
        "                        \"logit_score\": start_logit[start_index] + end_logit[end_index],\r\n",
        "                    }\r\n",
        "                )\r\n",
        "\r\n",
        "    best_answer = max(answers, key=lambda x: x[\"logit_score\"])\r\n",
        "    predicted_answers.append({\"id\": example_id, \"prediction_text\": best_answer[\"text\"]})"
      ],
      "outputs": [],
      "execution_count": 27,
      "metadata": {
        "jupyter": {
          "source_hidden": false,
          "outputs_hidden": false
        },
        "nteract": {
          "transient": {
            "deleting": false
          }
        },
        "gather": {
          "logged": 1666638098742
        }
      }
    },
    {
      "cell_type": "code",
      "source": [
        "import evaluate\r\n",
        "\r\n",
        "metric = evaluate.load(\"squad\")"
      ],
      "outputs": [
        {
          "output_type": "display_data",
          "data": {
            "text/plain": "Downloading builder script:   0%|          | 0.00/4.53k [00:00<?, ?B/s]",
            "application/vnd.jupyter.widget-view+json": {
              "version_major": 2,
              "version_minor": 0,
              "model_id": "5953c0807508409cb3b2aadee01ded42"
            }
          },
          "metadata": {}
        },
        {
          "output_type": "display_data",
          "data": {
            "text/plain": "Downloading extra modules:   0%|          | 0.00/3.32k [00:00<?, ?B/s]",
            "application/vnd.jupyter.widget-view+json": {
              "version_major": 2,
              "version_minor": 0,
              "model_id": "e45554c767b84e95b2d7dc2deb2ef301"
            }
          },
          "metadata": {}
        }
      ],
      "execution_count": 31,
      "metadata": {
        "jupyter": {
          "source_hidden": false,
          "outputs_hidden": false
        },
        "nteract": {
          "transient": {
            "deleting": false
          }
        },
        "gather": {
          "logged": 1666638422431
        }
      }
    },
    {
      "cell_type": "code",
      "source": [
        "theoretical_answers = [\r\n",
        "    {\"id\": ex[\"id\"], \"answers\": ex[\"answers\"]} for ex in small_eval_set\r\n",
        "]"
      ],
      "outputs": [],
      "execution_count": 28,
      "metadata": {
        "jupyter": {
          "source_hidden": false,
          "outputs_hidden": false
        },
        "nteract": {
          "transient": {
            "deleting": false
          }
        },
        "gather": {
          "logged": 1666638408361
        }
      }
    },
    {
      "cell_type": "code",
      "source": [
        "print(predicted_answers[0])\r\n",
        "print(theoretical_answers[0])"
      ],
      "outputs": [
        {
          "output_type": "stream",
          "name": "stdout",
          "text": "{'id': '56be4db0acb8001400a502ec', 'prediction_text': 'Denver Broncos'}\n{'id': '56be4db0acb8001400a502ec', 'answers': {'text': ['Denver Broncos', 'Denver Broncos', 'Denver Broncos'], 'answer_start': [177, 177, 177]}}\n"
        }
      ],
      "execution_count": 29,
      "metadata": {
        "jupyter": {
          "source_hidden": false,
          "outputs_hidden": false
        },
        "nteract": {
          "transient": {
            "deleting": false
          }
        },
        "gather": {
          "logged": 1666638412263
        }
      }
    },
    {
      "cell_type": "code",
      "source": [
        "metric.compute(predictions=predicted_answers, references=theoretical_answers)"
      ],
      "outputs": [
        {
          "output_type": "execute_result",
          "execution_count": 32,
          "data": {
            "text/plain": "{'exact_match': 83.0, 'f1': 88.25000000000004}"
          },
          "metadata": {}
        }
      ],
      "execution_count": 32,
      "metadata": {
        "jupyter": {
          "source_hidden": false,
          "outputs_hidden": false
        },
        "nteract": {
          "transient": {
            "deleting": false
          }
        },
        "gather": {
          "logged": 1666638429222
        }
      }
    },
    {
      "cell_type": "code",
      "source": [
        "from tqdm.auto import tqdm\r\n",
        "\r\n",
        "\r\n",
        "def compute_metrics(start_logits, end_logits, features, examples):\r\n",
        "    example_to_features = collections.defaultdict(list)\r\n",
        "    for idx, feature in enumerate(features):\r\n",
        "        example_to_features[feature[\"example_id\"]].append(idx)\r\n",
        "\r\n",
        "    predicted_answers = []\r\n",
        "    for example in tqdm(examples):\r\n",
        "        example_id = example[\"id\"]\r\n",
        "        context = example[\"context\"]\r\n",
        "        answers = []\r\n",
        "\r\n",
        "        # Loop through all features associated with that example\r\n",
        "        for feature_index in example_to_features[example_id]:\r\n",
        "            start_logit = start_logits[feature_index]\r\n",
        "            end_logit = end_logits[feature_index]\r\n",
        "            offsets = features[feature_index][\"offset_mapping\"]\r\n",
        "\r\n",
        "            start_indexes = np.argsort(start_logit)[-1 : -n_best - 1 : -1].tolist()\r\n",
        "            end_indexes = np.argsort(end_logit)[-1 : -n_best - 1 : -1].tolist()\r\n",
        "            for start_index in start_indexes:\r\n",
        "                for end_index in end_indexes:\r\n",
        "                    # Skip answers that are not fully in the context\r\n",
        "                    if offsets[start_index] is None or offsets[end_index] is None:\r\n",
        "                        continue\r\n",
        "                    # Skip answers with a length that is either < 0 or > max_answer_length\r\n",
        "                    if (\r\n",
        "                        end_index < start_index\r\n",
        "                        or end_index - start_index + 1 > max_answer_length\r\n",
        "                    ):\r\n",
        "                        continue\r\n",
        "\r\n",
        "                    answer = {\r\n",
        "                        \"text\": context[offsets[start_index][0] : offsets[end_index][1]],\r\n",
        "                        \"logit_score\": start_logit[start_index] + end_logit[end_index],\r\n",
        "                    }\r\n",
        "                    answers.append(answer)\r\n",
        "\r\n",
        "        # Select the answer with the best score\r\n",
        "        if len(answers) > 0:\r\n",
        "            best_answer = max(answers, key=lambda x: x[\"logit_score\"])\r\n",
        "            predicted_answers.append(\r\n",
        "                {\"id\": example_id, \"prediction_text\": best_answer[\"text\"]}\r\n",
        "            )\r\n",
        "        else:\r\n",
        "            predicted_answers.append({\"id\": example_id, \"prediction_text\": \"\"})\r\n",
        "\r\n",
        "    theoretical_answers = [{\"id\": ex[\"id\"], \"answers\": ex[\"answers\"]} for ex in examples]\r\n",
        "    return metric.compute(predictions=predicted_answers, references=theoretical_answers)"
      ],
      "outputs": [],
      "execution_count": 33,
      "metadata": {
        "jupyter": {
          "source_hidden": false,
          "outputs_hidden": false
        },
        "nteract": {
          "transient": {
            "deleting": false
          }
        },
        "gather": {
          "logged": 1666638431127
        }
      }
    },
    {
      "cell_type": "code",
      "source": [
        "compute_metrics(start_logits, end_logits, eval_set, small_eval_set)"
      ],
      "outputs": [
        {
          "output_type": "display_data",
          "data": {
            "text/plain": "  0%|          | 0/100 [00:00<?, ?it/s]",
            "application/vnd.jupyter.widget-view+json": {
              "version_major": 2,
              "version_minor": 0,
              "model_id": "2438553e37784ee48d18cee9ccb526c9"
            }
          },
          "metadata": {}
        },
        {
          "output_type": "execute_result",
          "execution_count": 34,
          "data": {
            "text/plain": "{'exact_match': 83.0, 'f1': 88.25000000000004}"
          },
          "metadata": {}
        }
      ],
      "execution_count": 34,
      "metadata": {
        "jupyter": {
          "source_hidden": false,
          "outputs_hidden": false
        },
        "nteract": {
          "transient": {
            "deleting": false
          }
        },
        "gather": {
          "logged": 1666638435793
        }
      }
    },
    {
      "cell_type": "markdown",
      "source": [
        "## Train the model"
      ],
      "metadata": {
        "nteract": {
          "transient": {
            "deleting": false
          }
        }
      }
    },
    {
      "cell_type": "code",
      "source": [
        "model = AutoModelForQuestionAnswering.from_pretrained(model_checkpoint)"
      ],
      "outputs": [
        {
          "output_type": "stream",
          "name": "stderr",
          "text": "Some weights of the model checkpoint at bert-base-cased were not used when initializing BertForQuestionAnswering: ['cls.predictions.bias', 'cls.predictions.transform.dense.weight', 'cls.predictions.transform.dense.bias', 'cls.predictions.decoder.weight', 'cls.seq_relationship.weight', 'cls.seq_relationship.bias', 'cls.predictions.transform.LayerNorm.weight', 'cls.predictions.transform.LayerNorm.bias']\n- This IS expected if you are initializing BertForQuestionAnswering from the checkpoint of a model trained on another task or with another architecture (e.g. initializing a BertForSequenceClassification model from a BertForPreTraining model).\n- This IS NOT expected if you are initializing BertForQuestionAnswering from the checkpoint of a model that you expect to be exactly identical (initializing a BertForSequenceClassification model from a BertForSequenceClassification model).\nSome weights of BertForQuestionAnswering were not initialized from the model checkpoint at bert-base-cased and are newly initialized: ['qa_outputs.weight', 'qa_outputs.bias']\nYou should probably TRAIN this model on a down-stream task to be able to use it for predictions and inference.\n"
        }
      ],
      "execution_count": 35,
      "metadata": {
        "jupyter": {
          "source_hidden": false,
          "outputs_hidden": false
        },
        "nteract": {
          "transient": {
            "deleting": false
          }
        },
        "gather": {
          "logged": 1666638462727
        }
      }
    },
    {
      "cell_type": "code",
      "source": [
        "from transformers import TrainingArguments\r\n",
        "\r\n",
        "'''\r\n",
        "args = TrainingArguments(\r\n",
        "    \"bert-finetuned-squad\",\r\n",
        "    evaluation_strategy=\"no\",\r\n",
        "    save_strategy=\"epoch\",\r\n",
        "    learning_rate=2e-5,\r\n",
        "    num_train_epochs=3,\r\n",
        "    weight_decay=0.01,\r\n",
        "    fp16=True,\r\n",
        "    push_to_hub=True,\r\n",
        ")\r\n",
        "'''\r\n",
        "\r\n",
        "args = TrainingArguments(\r\n",
        "    \"bert-finetuned-squad\",\r\n",
        "    evaluation_strategy=\"no\",\r\n",
        "    save_strategy=\"epoch\",\r\n",
        "    learning_rate=2e-5,\r\n",
        "    num_train_epochs=3,\r\n",
        "    weight_decay=0.01,\r\n",
        "    fp16=True\r\n",
        ")"
      ],
      "outputs": [],
      "execution_count": 37,
      "metadata": {
        "jupyter": {
          "source_hidden": false,
          "outputs_hidden": false
        },
        "nteract": {
          "transient": {
            "deleting": false
          }
        },
        "gather": {
          "logged": 1666638509804
        }
      }
    },
    {
      "cell_type": "code",
      "source": [
        "from transformers import Trainer\r\n",
        "\r\n",
        "trainer = Trainer(\r\n",
        "    model=model,\r\n",
        "    args=args,\r\n",
        "    train_dataset=train_dataset,\r\n",
        "    eval_dataset=validation_dataset,\r\n",
        "    tokenizer=tokenizer,\r\n",
        ")\r\n",
        "trainer.train()"
      ],
      "outputs": [
        {
          "output_type": "stream",
          "name": "stdout",
          "text": "huggingface/tokenizers: The current process just got forked, after parallelism has already been used. Disabling parallelism to avoid deadlocks...\nTo disable this warning, you can either:\n\t- Avoid using `tokenizers` before the fork if possible\n\t- Explicitly set the environment variable TOKENIZERS_PARALLELISM=(true | false)\nhuggingface/tokenizers: The current process just got forked, after parallelism has already been used. Disabling parallelism to avoid deadlocks...\nTo disable this warning, you can either:\n\t- Avoid using `tokenizers` before the fork if possible\n\t- Explicitly set the environment variable TOKENIZERS_PARALLELISM=(true | false)\n"
        },
        {
          "output_type": "display_data",
          "data": {
            "text/plain": "<IPython.core.display.HTML object>",
            "text/html": "\n    <div>\n        <style>\n            /* Turns off some styling */\n            progress {\n                /* gets rid of default border in Firefox and Opera. */\n                border: none;\n                /* Needs to be in here for Safari polyfill so background images work as expected. */\n                background-size: auto;\n            }\n        </style>\n      \n      <progress value='1473' max='33276' style='width:300px; height:20px; vertical-align: middle;'></progress>\n      [ 1473/33276 51:39 < 18:36:50, 0.47 it/s, Epoch 0.13/3]\n    </div>\n    <table border=\"1\" class=\"dataframe\">\n  <thead>\n    <tr style=\"text-align: left;\">\n      <th>Step</th>\n      <th>Training Loss</th>\n    </tr>\n  </thead>\n  <tbody>\n    <tr>\n      <td>500</td>\n      <td>2.637500</td>\n    </tr>\n    <tr>\n      <td>1000</td>\n      <td>1.591600</td>\n    </tr>\n  </tbody>\n</table><p>"
          },
          "metadata": {}
        },
        {
          "output_type": "stream",
          "name": "stdout",
          "text": "Attempted to log scalar metric loss:\n2.6375\nAttempted to log scalar metric learning_rate:\n1.9699483110950837e-05\nAttempted to log scalar metric epoch:\n0.05\nAttempted to log scalar metric loss:\n1.5916\nAttempted to log scalar metric learning_rate:\n1.9398966221901672e-05\nAttempted to log scalar metric epoch:\n0.09\n"
        }
      ],
      "execution_count": null,
      "metadata": {
        "jupyter": {
          "source_hidden": false,
          "outputs_hidden": false
        },
        "nteract": {
          "transient": {
            "deleting": false
          }
        },
        "gather": {
          "logged": 1666641624263
        }
      }
    },
    {
      "cell_type": "code",
      "source": [
        "from transformers import Trainer\r\n",
        "\r\n",
        "trainer = Trainer(\r\n",
        "    model=model,\r\n",
        "    args=args,\r\n",
        "    train_dataset=train_dataset,\r\n",
        "    eval_dataset=validation_dataset,\r\n",
        "    tokenizer=tokenizer,\r\n",
        ")\r\n",
        "trainer.train()"
      ],
      "outputs": [],
      "execution_count": null,
      "metadata": {
        "jupyter": {
          "source_hidden": false,
          "outputs_hidden": false
        },
        "nteract": {
          "transient": {
            "deleting": false
          }
        }
      }
    }
  ],
  "metadata": {
    "kernelspec": {
      "name": "python38-azureml",
      "language": "python",
      "display_name": "Python 3.8 - AzureML"
    },
    "language_info": {
      "name": "python",
      "version": "3.8.5",
      "mimetype": "text/x-python",
      "codemirror_mode": {
        "name": "ipython",
        "version": 3
      },
      "pygments_lexer": "ipython3",
      "nbconvert_exporter": "python",
      "file_extension": ".py"
    },
    "kernel_info": {
      "name": "python38-azureml"
    },
    "nteract": {
      "version": "nteract-front-end@1.0.0"
    },
    "microsoft": {
      "host": {
        "AzureML": {
          "notebookHasBeenCompleted": true
        }
      }
    }
  },
  "nbformat": 4,
  "nbformat_minor": 2
}